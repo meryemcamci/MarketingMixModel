{
 "cells": [
  {
   "cell_type": "markdown",
   "id": "1599ed64",
   "metadata": {},
   "source": [
    "# 05 · Budget Optimization / What-if\n",
    "\n",
    "**Goal:** Run fixed and flexible budget optimization scenarios and visualize suggested allocations."
   ]
  },
  {
   "cell_type": "code",
   "execution_count": 1,
   "id": "7c546aff-76d5-4454-b9cf-861f619b85f4",
   "metadata": {},
   "outputs": [
    {
     "name": "stdout",
     "output_type": "stream",
     "text": [
      "Pipeline trained. Coef (first 4 = media):\n"
     ]
    },
    {
     "data": {
      "text/plain": [
       "array([  454.61711131,   -46.3875149 ,   413.09152997, -1635.51862706])"
      ]
     },
     "execution_count": 1,
     "metadata": {},
     "output_type": "execute_result"
    }
   ],
   "source": [
    "import numpy as np\n",
    "import pandas as pd\n",
    "from pathlib import Path\n",
    "\n",
    "from sklearn.preprocessing import StandardScaler\n",
    "from sklearn.compose import ColumnTransformer\n",
    "from sklearn.pipeline import Pipeline\n",
    "from sklearn.linear_model import RidgeCV\n",
    "from scipy.optimize import minimize\n",
    "\n",
    "df = pd.read_csv(\"../data/marketing_data_clean.csv\")\n",
    "channels = [\"tv_spend\",\"search_spend\",\"social_spend\",\"display_spend\"]\n",
    "controls = [\"price_index\",\"promo\",\"holiday\"]\n",
    "\n",
    "y = df[\"revenue\"].values\n",
    "Z = df[controls].values\n",
    "X_raw = df[channels].values\n",
    "\n",
    "def adstock(x, L=8, alpha=0.6):\n",
    "    w = alpha ** np.arange(L)\n",
    "    w = w / w.sum()\n",
    "    return np.convolve(x, w, mode=\"full\")[:len(x)]\n",
    "\n",
    "def saturation(x, k=1.0, s=0.6):\n",
    "    return (x**s) / (x**s + k**s)\n",
    "\n",
    "X_list = []\n",
    "for c in channels:\n",
    "    xs = adstock(df[c].values, L=8, alpha=0.6)\n",
    "    k = np.quantile(xs, 0.7) + 1e-6\n",
    "    xs = saturation(xs, k=k, s=0.6)\n",
    "    X_list.append(xs)\n",
    "X = np.vstack(X_list).T\n",
    "\n",
    "pipe = Pipeline([\n",
    "    (\"scale\", ColumnTransformer(\n",
    "        transformers=[\n",
    "            (\"x\", StandardScaler(), slice(0, len(channels))),\n",
    "            (\"z\", StandardScaler(), slice(len(channels), len(channels)+Z.shape[1])),\n",
    "        ], remainder=\"drop\"\n",
    "    )),\n",
    "    (\"ridge\", RidgeCV(alphas=np.logspace(-3, 3, 21), cv=5))\n",
    "])\n",
    "\n",
    "XZ = np.hstack([X, Z])\n",
    "pipe.fit(XZ, y)\n",
    "\n",
    "print(\"Pipeline trained. Coef (first 4 = media):\")\n",
    "pipe.named_steps[\"ridge\"].coef_[:len(channels)]"
   ]
  },
  {
   "cell_type": "code",
   "execution_count": 3,
   "id": "b43fa616-1967-4e96-a8d9-533bc8bbb039",
   "metadata": {},
   "outputs": [],
   "source": [
    "base_spend = df[channels].values\n",
    "S0 = base_spend.mean(axis=0)  \n",
    "B0 = S0.sum()                 \n",
    "\n",
    "def forward(spend_vec):\n",
    "    X_opt_list = []\n",
    "    n = len(y)\n",
    "    ones = np.ones(n)\n",
    "    for i, c in enumerate(channels):\n",
    "        xs = adstock(spend_vec[i] * ones, L=8, alpha=0.6)\n",
    "        k  = np.quantile(xs, 0.7) + 1e-6\n",
    "        xs = saturation(xs, k=k, s=0.6)\n",
    "        X_opt_list.append(xs)\n",
    "    X_opt = np.vstack(X_opt_list).T  # (n, k)\n",
    "    XZ_opt = np.hstack([X_opt, Z])\n",
    "    return pipe.predict(XZ_opt).sum()\n"
   ]
  },
  {
   "cell_type": "code",
   "execution_count": 5,
   "id": "403f02bc-4d05-4ad9-abc3-ca914eaf1a62",
   "metadata": {},
   "outputs": [],
   "source": [
    "def optimize_budget(total_budget,\n",
    "                    lower_pct=0.5, upper_pct=2.0,\n",
    "                    initial=\"current\"):\n",
    "    if initial == \"equal\":\n",
    "        x0 = np.ones(len(channels)) * (total_budget / len(channels))\n",
    "    else:\n",
    "        x0 = S0.copy()\n",
    "\n",
    "    cons = ({'type':'eq', 'fun': lambda s: s.sum() - total_budget},)\n",
    "\n",
    "    bnds = [(S0[i]*lower_pct, S0[i]*upper_pct) for i in range(len(channels))]\n",
    "\n",
    "    res = minimize(lambda s: -forward(s),\n",
    "                   x0=x0, bounds=bnds, constraints=cons, method=\"SLSQP\")\n",
    "\n",
    "    out = pd.DataFrame({\n",
    "        \"channel\": channels,\n",
    "        \"current\": S0,\n",
    "        \"optimized\": res.x,\n",
    "        \"delta\": res.x - S0,\n",
    "        \"delta_%\": (res.x - S0) / S0\n",
    "    }).round(2)\n",
    "\n",
    "    out_meta = {\n",
    "        \"budget_current\": float(B0),\n",
    "        \"budget_target\": float(total_budget),\n",
    "        \"pred_revenue_current\": float(forward(S0)),\n",
    "        \"pred_revenue_optimized\": float(forward(res.x)),\n",
    "        \"uplift\": float(forward(res.x) - forward(S0))\n",
    "    }\n",
    "    return out, out_meta"
   ]
  },
  {
   "cell_type": "code",
   "execution_count": 7,
   "id": "8823c68f-077b-4d07-ace8-610e57f97832",
   "metadata": {},
   "outputs": [
    {
     "data": {
      "text/html": [
       "<div>\n",
       "<style scoped>\n",
       "    .dataframe tbody tr th:only-of-type {\n",
       "        vertical-align: middle;\n",
       "    }\n",
       "\n",
       "    .dataframe tbody tr th {\n",
       "        vertical-align: top;\n",
       "    }\n",
       "\n",
       "    .dataframe thead th {\n",
       "        text-align: right;\n",
       "    }\n",
       "</style>\n",
       "<table border=\"1\" class=\"dataframe\">\n",
       "  <thead>\n",
       "    <tr style=\"text-align: right;\">\n",
       "      <th></th>\n",
       "      <th>channel</th>\n",
       "      <th>current</th>\n",
       "      <th>optimized</th>\n",
       "      <th>delta</th>\n",
       "      <th>delta_%</th>\n",
       "    </tr>\n",
       "  </thead>\n",
       "  <tbody>\n",
       "    <tr>\n",
       "      <th>0</th>\n",
       "      <td>tv_spend</td>\n",
       "      <td>9147.24</td>\n",
       "      <td>9147.24</td>\n",
       "      <td>-0.0</td>\n",
       "      <td>-0.0</td>\n",
       "    </tr>\n",
       "    <tr>\n",
       "      <th>1</th>\n",
       "      <td>search_spend</td>\n",
       "      <td>4380.46</td>\n",
       "      <td>4380.46</td>\n",
       "      <td>-0.0</td>\n",
       "      <td>-0.0</td>\n",
       "    </tr>\n",
       "    <tr>\n",
       "      <th>2</th>\n",
       "      <td>social_spend</td>\n",
       "      <td>2403.69</td>\n",
       "      <td>2403.69</td>\n",
       "      <td>-0.0</td>\n",
       "      <td>-0.0</td>\n",
       "    </tr>\n",
       "    <tr>\n",
       "      <th>3</th>\n",
       "      <td>display_spend</td>\n",
       "      <td>1415.61</td>\n",
       "      <td>1415.61</td>\n",
       "      <td>0.0</td>\n",
       "      <td>0.0</td>\n",
       "    </tr>\n",
       "  </tbody>\n",
       "</table>\n",
       "</div>"
      ],
      "text/plain": [
       "         channel  current  optimized  delta  delta_%\n",
       "0       tv_spend  9147.24    9147.24   -0.0     -0.0\n",
       "1   search_spend  4380.46    4380.46   -0.0     -0.0\n",
       "2   social_spend  2403.69    2403.69   -0.0     -0.0\n",
       "3  display_spend  1415.61    1415.61    0.0      0.0"
      ]
     },
     "metadata": {},
     "output_type": "display_data"
    },
    {
     "data": {
      "text/html": [
       "<div>\n",
       "<style scoped>\n",
       "    .dataframe tbody tr th:only-of-type {\n",
       "        vertical-align: middle;\n",
       "    }\n",
       "\n",
       "    .dataframe tbody tr th {\n",
       "        vertical-align: top;\n",
       "    }\n",
       "\n",
       "    .dataframe thead th {\n",
       "        text-align: right;\n",
       "    }\n",
       "</style>\n",
       "<table border=\"1\" class=\"dataframe\">\n",
       "  <thead>\n",
       "    <tr style=\"text-align: right;\">\n",
       "      <th></th>\n",
       "      <th>channel</th>\n",
       "      <th>current</th>\n",
       "      <th>optimized</th>\n",
       "      <th>delta</th>\n",
       "      <th>delta_%</th>\n",
       "    </tr>\n",
       "  </thead>\n",
       "  <tbody>\n",
       "    <tr>\n",
       "      <th>0</th>\n",
       "      <td>tv_spend</td>\n",
       "      <td>9147.24</td>\n",
       "      <td>9580.85</td>\n",
       "      <td>433.61</td>\n",
       "      <td>0.05</td>\n",
       "    </tr>\n",
       "    <tr>\n",
       "      <th>1</th>\n",
       "      <td>search_spend</td>\n",
       "      <td>4380.46</td>\n",
       "      <td>4814.08</td>\n",
       "      <td>433.61</td>\n",
       "      <td>0.10</td>\n",
       "    </tr>\n",
       "    <tr>\n",
       "      <th>2</th>\n",
       "      <td>social_spend</td>\n",
       "      <td>2403.69</td>\n",
       "      <td>2837.30</td>\n",
       "      <td>433.61</td>\n",
       "      <td>0.18</td>\n",
       "    </tr>\n",
       "    <tr>\n",
       "      <th>3</th>\n",
       "      <td>display_spend</td>\n",
       "      <td>1415.61</td>\n",
       "      <td>1849.47</td>\n",
       "      <td>433.86</td>\n",
       "      <td>0.31</td>\n",
       "    </tr>\n",
       "  </tbody>\n",
       "</table>\n",
       "</div>"
      ],
      "text/plain": [
       "         channel  current  optimized   delta  delta_%\n",
       "0       tv_spend  9147.24    9580.85  433.61     0.05\n",
       "1   search_spend  4380.46    4814.08  433.61     0.10\n",
       "2   social_spend  2403.69    2837.30  433.61     0.18\n",
       "3  display_spend  1415.61    1849.47  433.86     0.31"
      ]
     },
     "metadata": {},
     "output_type": "display_data"
    },
    {
     "data": {
      "text/html": [
       "<div>\n",
       "<style scoped>\n",
       "    .dataframe tbody tr th:only-of-type {\n",
       "        vertical-align: middle;\n",
       "    }\n",
       "\n",
       "    .dataframe tbody tr th {\n",
       "        vertical-align: top;\n",
       "    }\n",
       "\n",
       "    .dataframe thead th {\n",
       "        text-align: right;\n",
       "    }\n",
       "</style>\n",
       "<table border=\"1\" class=\"dataframe\">\n",
       "  <thead>\n",
       "    <tr style=\"text-align: right;\">\n",
       "      <th></th>\n",
       "      <th>channel</th>\n",
       "      <th>current</th>\n",
       "      <th>optimized</th>\n",
       "      <th>delta</th>\n",
       "      <th>delta_%</th>\n",
       "    </tr>\n",
       "  </thead>\n",
       "  <tbody>\n",
       "    <tr>\n",
       "      <th>0</th>\n",
       "      <td>tv_spend</td>\n",
       "      <td>9147.24</td>\n",
       "      <td>8226.71</td>\n",
       "      <td>-920.53</td>\n",
       "      <td>-0.10</td>\n",
       "    </tr>\n",
       "    <tr>\n",
       "      <th>1</th>\n",
       "      <td>search_spend</td>\n",
       "      <td>4380.46</td>\n",
       "      <td>3459.93</td>\n",
       "      <td>-920.53</td>\n",
       "      <td>-0.21</td>\n",
       "    </tr>\n",
       "    <tr>\n",
       "      <th>2</th>\n",
       "      <td>social_spend</td>\n",
       "      <td>2403.69</td>\n",
       "      <td>1483.16</td>\n",
       "      <td>-920.53</td>\n",
       "      <td>-0.38</td>\n",
       "    </tr>\n",
       "    <tr>\n",
       "      <th>3</th>\n",
       "      <td>display_spend</td>\n",
       "      <td>1415.61</td>\n",
       "      <td>707.80</td>\n",
       "      <td>-707.80</td>\n",
       "      <td>-0.50</td>\n",
       "    </tr>\n",
       "  </tbody>\n",
       "</table>\n",
       "</div>"
      ],
      "text/plain": [
       "         channel  current  optimized   delta  delta_%\n",
       "0       tv_spend  9147.24    8226.71 -920.53    -0.10\n",
       "1   search_spend  4380.46    3459.93 -920.53    -0.21\n",
       "2   social_spend  2403.69    1483.16 -920.53    -0.38\n",
       "3  display_spend  1415.61     707.80 -707.80    -0.50"
      ]
     },
     "metadata": {},
     "output_type": "display_data"
    },
    {
     "data": {
      "text/plain": [
       "{'budget_current': 17347.004567307693,\n",
       " 'budget_target': 13877.603653846156,\n",
       " 'pred_revenue_current': 17296948.229599044,\n",
       " 'pred_revenue_optimized': 17296948.230179682,\n",
       " 'uplift': 0.0005806386470794678}"
      ]
     },
     "execution_count": 7,
     "metadata": {},
     "output_type": "execute_result"
    }
   ],
   "source": [
    "plan_same, meta_same = optimize_budget(B0, lower_pct=0.5, upper_pct=2.0, initial=\"current\")\n",
    "display(plan_same)\n",
    "meta_same\n",
    "\n",
    "plan_up10, meta_up10 = optimize_budget(1.10 * B0, lower_pct=0.5, upper_pct=2.0)\n",
    "display(plan_up10)\n",
    "meta_up10\n",
    "\n",
    "plan_down20, meta_down20 = optimize_budget(0.80 * B0, lower_pct=0.5, upper_pct=2.0)\n",
    "display(plan_down20)\n",
    "meta_down20"
   ]
  },
  {
   "cell_type": "code",
   "execution_count": 9,
   "id": "fca8e990-b4fe-45ba-8cb1-6fd2752c4d43",
   "metadata": {},
   "outputs": [
    {
     "data": {
      "image/png": "[encoded data removed]",
      "text/plain": [
       "<Figure size 600x380 with 1 Axes>"
      ]
     },
     "metadata": {},
     "output_type": "display_data"
    },
    {
     "data": {
      "image/png": "[encoded data removed]",
      "text/plain": [
       "<Figure size 600x380 with 1 Axes>"
      ]
     },
     "metadata": {},
     "output_type": "display_data"
    },
    {
     "data": {
      "image/png": "[encoded data removed]",
      "text/plain": [
       "<Figure size 600x380 with 1 Axes>"
      ]
     },
     "metadata": {},
     "output_type": "display_data"
    }
   ],
   "source": [
    "import matplotlib.pyplot as plt\n",
    "\n",
    "OUT = Path(\"../reports\")\n",
    "OUT.mkdir(exist_ok=True)\n",
    "\n",
    "def save_plan(plan_df, meta, name):\n",
    "    plan_df.to_csv(OUT / f\"{name}_budget_plan.csv\", index=False)\n",
    "    with open(OUT / f\"{name}_meta.txt\", \"w\") as f:\n",
    "        for k,v in meta.items():\n",
    "            f.write(f\"{k}: {v}\\n\")\n",
    "\n",
    "    ax = plan_df.plot(kind=\"barh\", x=\"channel\", y=[\"current\",\"optimized\"], figsize=(6,3.8), title=f\"Budget plan: {name}\")\n",
    "    plt.tight_layout()\n",
    "    plt.savefig(OUT / f\"{name}_budget_bar.png\", dpi=150)\n",
    "    plt.show()\n",
    "\n",
    "save_plan(plan_same,  meta_same,  \"05_scenario_sameBudget\")\n",
    "save_plan(plan_up10,  meta_up10,  \"05_scenario_plus10\")\n",
    "save_plan(plan_down20,meta_down20,\"05_scenario_minus20\")"
   ]
  },
  {
   "cell_type": "markdown",
   "id": "2ee4c0fa-9fb7-44a6-816a-46a4c4c5bc74",
   "metadata": {},
   "source": [
    "**Budget Optimization**\n",
    "\n",
    "* We use the regularized MMM (Ridge + Adstock + Saturation) trained in step 03 to maximize predicted revenue under budget constraints.\n",
    "\n",
    "* Decision variables are weekly channel budgets; constraints include:\n",
    "\n",
    "     * total spend equals a target budget (same, +10%, −20% scenarios),\n",
    "\n",
    "     * per-channel lower/upper bounds relative to the current mix (default: 50%–200%).\n",
    "\n",
    "* Optimization is solved with SLSQP.\n",
    "\n",
    "* The notebook outputs per-channel current vs. optimized budgets, predicted revenue uplift, and exports results to ../reports/ as CSV/PNG."
   ]
  }
 ],
 "metadata": {
  "kernelspec": {
   "display_name": "Python (mmm-meridian)",
   "language": "python",
   "name": "mmm-meridian"
  },
  "language_info": {
   "codemirror_mode": {
    "name": "ipython",
    "version": 3
   },
   "file_extension": ".py",
   "mimetype": "text/x-python",
   "name": "python",
   "nbconvert_exporter": "python",
   "pygments_lexer": "ipython3",
   "version": "3.11.13"
  }
 },
 "nbformat": 4,
 "nbformat_minor": 5
}
