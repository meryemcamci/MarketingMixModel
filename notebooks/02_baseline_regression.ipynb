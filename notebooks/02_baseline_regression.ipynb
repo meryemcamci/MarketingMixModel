{
 "cells": [
  {
   "cell_type": "markdown",
   "id": "1f92ccaf",
   "metadata": {},
   "source": [
    "# 02 · Baseline Multiple Regression\n",
    "\n",
    "**Goal:** Fit a simple regression as a baseline MMM to compare against Meridian later."
   ]
  },
  {
   "cell_type": "code",
   "execution_count": 2,
   "id": "f5140a98-2a08-4477-8e97-8f6cf6f52d2b",
   "metadata": {},
   "outputs": [],
   "source": [
    "import pandas as pd\n",
    "from sklearn.model_selection import train_test_split\n",
    "from sklearn.linear_model import LinearRegression\n",
    "from sklearn.metrics import r2_score, mean_absolute_percentage_error, mean_squared_error\n",
    "\n",
    "df = pd.read_csv(\"../data/marketing_data_clean.csv\")"
   ]
  },
  {
   "cell_type": "code",
   "execution_count": 3,
   "id": "77c895f4-fa2d-4c07-8afb-2ea9e9b6feff",
   "metadata": {},
   "outputs": [],
   "source": [
    "X = df[[\"tv_spend\",\"search_spend\",\"social_spend\",\"display_spend\",\"price_index\",\"promo\",\"holiday\"]]\n",
    "y = df[\"revenue\"]"
   ]
  },
  {
   "cell_type": "code",
   "execution_count": 4,
   "id": "deee2abe-f7aa-4d86-8b9a-a28d04fe83c4",
   "metadata": {},
   "outputs": [],
   "source": [
    "X_train, X_test, y_train, y_test = train_test_split(X, y, test_size=0.2, shuffle=False)"
   ]
  },
  {
   "cell_type": "code",
   "execution_count": 5,
   "id": "d5cb1df5-edfd-4ca5-af09-a8bd9c61f735",
   "metadata": {},
   "outputs": [],
   "source": [
    "reg = LinearRegression().fit(X_train, y_train)\n",
    "pred = reg.predict(X_test)"
   ]
  },
  {
   "cell_type": "code",
   "execution_count": 6,
   "id": "d5b28da5-da34-4c3b-a7c3-8ed46b1f783f",
   "metadata": {},
   "outputs": [
    {
     "name": "stdout",
     "output_type": "stream",
     "text": [
      "{'R2': -0.09908534853546036, 'MAPE': 0.12026463131319345, 'RMSE': np.float64(11578.55775706539)}\n",
      "Coefficients: {'tv_spend': np.float64(0.2946906305584724), 'search_spend': np.float64(0.11901614749328226), 'social_spend': np.float64(0.44497602603705183), 'display_spend': np.float64(-2.3258563290471006), 'price_index': np.float64(3364.7367257163232), 'promo': np.float64(1878.2483151876543), 'holiday': np.float64(5326.523646092306)}\n"
     ]
    }
   ],
   "source": [
    "from sklearn.metrics import r2_score, mean_absolute_percentage_error, mean_squared_error\n",
    "import numpy as np\n",
    "\n",
    "r2   = r2_score(y_test, pred)\n",
    "mape = mean_absolute_percentage_error(y_test, pred)\n",
    "mse  = mean_squared_error(y_test, pred)   # MSE\n",
    "rmse = np.sqrt(mse)                       # RMSE\n",
    "\n",
    "print({\"R2\": r2, \"MAPE\": mape, \"RMSE\": rmse})\n",
    "print(\"Coefficients:\", dict(zip(X.columns, reg.coef_)))"
   ]
  },
  {
   "cell_type": "code",
   "execution_count": 7,
   "id": "703057a8-5a28-4855-813f-a90418904096",
   "metadata": {},
   "outputs": [
    {
     "name": "stdout",
     "output_type": "stream",
     "text": [
      "{'R2': 0.5158619746585984, 'MAPE': 0.0793989808488486, 'RMSE': np.float64(7684.636944477699)}\n",
      "Coefficients: {'log_tv_spend': np.float64(0.0017816217327150652), 'log_search_spend': np.float64(-0.0003885028128915171), 'log_social_spend': np.float64(0.006488431021336523), 'log_display_spend': np.float64(-0.011715353320564902), 'price_index': np.float64(-0.0013453296135823955), 'promo': np.float64(0.008863619839149165), 'holiday': np.float64(0.020290360476916406), 'sin52': np.float64(0.09468879136674925), 'cos52': np.float64(-0.006249738001058412)}\n"
     ]
    }
   ],
   "source": [
    "import numpy as np, pandas as pd\n",
    "from sklearn.model_selection import TimeSeriesSplit\n",
    "from sklearn.linear_model import RidgeCV\n",
    "from sklearn.preprocessing import StandardScaler\n",
    "from sklearn.pipeline import Pipeline\n",
    "from sklearn.metrics import r2_score, mean_absolute_percentage_error, mean_squared_error\n",
    "\n",
    "df = pd.read_csv(\"../data/marketing_data_clean.csv\").copy()\n",
    "# Features: log1p spends\n",
    "for c in [\"tv_spend\",\"search_spend\",\"social_spend\",\"display_spend\"]:\n",
    "    df[f\"log_{c}\"] = np.log1p(df[c])\n",
    "\n",
    "# Seasonality (weekly): sin/cos with period=52\n",
    "t = np.arange(len(df))\n",
    "df[\"sin52\"] = np.sin(2*np.pi*t/52)\n",
    "df[\"cos52\"] = np.cos(2*np.pi*t/52)\n",
    "\n",
    "X = df[[\"log_tv_spend\",\"log_search_spend\",\"log_social_spend\",\"log_display_spend\",\n",
    "        \"price_index\",\"promo\",\"holiday\",\"sin52\",\"cos52\"]]\n",
    "y = np.log1p(df[\"revenue\"])  # log target\n",
    "\n",
    "# Time-aware split (last 20% as test)\n",
    "split = int(len(df)*0.8)\n",
    "X_train, X_test = X.iloc[:split], X.iloc[split:]\n",
    "y_train, y_test = y.iloc[:split], y.iloc[split:]\n",
    "\n",
    "pipe = Pipeline([\n",
    "    (\"scaler\", StandardScaler()),\n",
    "    (\"ridge\", RidgeCV(alphas=np.logspace(-3,3,13), cv=5))\n",
    "])\n",
    "pipe.fit(X_train, y_train)\n",
    "pred_log = pipe.predict(X_test)\n",
    "\n",
    "# back-transform\n",
    "pred = np.expm1(pred_log)\n",
    "y_true = df[\"revenue\"].iloc[split:]\n",
    "\n",
    "r2   = r2_score(y_true, pred)\n",
    "mape = mean_absolute_percentage_error(y_true, pred)\n",
    "rmse = np.sqrt(mean_squared_error(y_true, pred))\n",
    "print({\"R2\": r2, \"MAPE\": mape, \"RMSE\": rmse})\n",
    "\n",
    "coef = pipe.named_steps[\"ridge\"].coef_\n",
    "print(\"Coefficients:\", dict(zip(X.columns, coef)))"
   ]
  },
  {
   "cell_type": "markdown",
   "id": "f677da2b-05d6-4b52-85ef-177e1454e549",
   "metadata": {},
   "source": [
    "Before applying Google Meridian’s Bayesian MMM, I built a baseline regression model to serve as a benchmark.\n",
    "\n",
    "**Approach**: Multiple linear regression with log-transformed media spends, seasonality controls (sin/cos), and Ridge regularization to address multicollinearity.\n",
    "\n",
    "**Features**: log_tv_spend, log_search_spend, log_social_spend, log_display_spend, price_index, promo, holiday, sin52, cos52.\n",
    "\n",
    "**Evaluation**: Time-aware train/test split (last 20% for testing).\n",
    "\n",
    "**Results**:\n",
    "\n",
    "* R² ≈ 0.52 (model explains ~52% of variance in revenue)\n",
    "* MAPE ≈ 7.9% (average prediction error)\n",
    "* RMSE ≈ 7.7k (revenue units)\n",
    "\n",
    "**Insights**:\n",
    "\n",
    "* Media spends (TV, Search, Social) positively correlated with revenue.\n",
    "* Price index negative (higher prices reduce sales).\n",
    "* Promotions & holidays significantly boost sales.\n",
    "* Seasonality captured via weekly sine/cosine features."
   ]
  },
  {
   "cell_type": "code",
   "execution_count": null,
   "id": "a50f4a71-9a81-4434-9f3e-706314705e0c",
   "metadata": {},
   "outputs": [],
   "source": []
  }
 ],
 "metadata": {
  "kernelspec": {
   "display_name": "Python (mmm-meridian)",
   "language": "python",
   "name": "mmm-meridian"
  },
  "language_info": {
   "codemirror_mode": {
    "name": "ipython",
    "version": 3
   },
   "file_extension": ".py",
   "mimetype": "text/x-python",
   "name": "python",
   "nbconvert_exporter": "python",
   "pygments_lexer": "ipython3",
   "version": "3.11.13"
  }
 },
 "nbformat": 4,
 "nbformat_minor": 5
}
