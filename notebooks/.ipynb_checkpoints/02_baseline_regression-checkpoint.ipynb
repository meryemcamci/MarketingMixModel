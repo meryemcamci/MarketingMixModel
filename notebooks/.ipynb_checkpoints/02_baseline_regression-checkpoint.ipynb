{
  "cells": [
    {
      "cell_type": "markdown",
      "metadata": {},
      "source": "# 02 \u00b7 Baseline Multiple Regression\n\n**Goal:** Fit a simple regression as a baseline MMM to compare against Meridian later."
    },
    {
      "cell_type": "code",
      "metadata": {},
      "execution_count": null,
      "outputs": [],
      "source": "import pandas as pd, numpy as np\nfrom sklearn.model_selection import train_test_split\nfrom sklearn.metrics import r2_score, mean_absolute_percentage_error, mean_squared_error\nfrom sklearn.linear_model import LinearRegression\n\ndf = pd.read_csv(\"../data/marketing_data_clean.csv\")\nX = df[[\"tv_spend\",\"search_spend\",\"social_spend\",\"display_spend\",\"price_index\",\"promo\",\"holiday\"]]\ny = df[\"revenue\"]\n\nX_train, X_test, y_train, y_test = train_test_split(X, y, test_size=0.2, shuffle=False)\nreg = LinearRegression().fit(X_train, y_train)\npred = reg.predict(X_test)\n\nr2 = r2_score(y_test, pred)\nmape = mean_absolute_percentage_error(y_test, pred)\nrmse = mean_squared_error(y_test, pred, squared=False)\n\nprint({\"R2\": r2, \"MAPE\": mape, \"RMSE\": rmse})\nprint(\"Coefficients:\", dict(zip(X.columns, reg.coef_)))"
    },
    {
      "cell_type": "markdown",
      "metadata": {},
      "source": "> Save metrics in a small CSV or JSON for later comparison."
    }
  ],
  "metadata": {
    "kernelspec": {
      "display_name": "Python (mmm-meridian)",
      "language": "python",
      "name": "mmm-meridian"
    },
    "language_info": {
      "name": "python",
      "version": "3.11"
    }
  },
  "nbformat": 4,
  "nbformat_minor": 5
}