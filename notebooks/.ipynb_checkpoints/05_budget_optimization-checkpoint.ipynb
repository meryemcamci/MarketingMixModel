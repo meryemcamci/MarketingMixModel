{
  "cells": [
    {
      "cell_type": "markdown",
      "metadata": {},
      "source": "# 05 \u00b7 Budget Optimization / What-if\n\n**Goal:** Run fixed and flexible budget optimization scenarios and visualize suggested allocations."
    },
    {
      "cell_type": "code",
      "metadata": {},
      "execution_count": null,
      "outputs": [],
      "source": "from meridian.optimization import optimizer\nfrom pathlib import Path\n\n# Reuse `mmm` from Notebook 03 in the same session, or recompute there and export artifacts.\nopt = optimizer.BudgetOptimizer(mmm)\n\n# Fixed budget example\nres_fixed = opt.optimize(\n    selected_times=None,   # or e.g. (\"2023-01-01\",\"2023-12-31\")\n    budget=70_000_000\n)\n\n# Flexible budget example (target ROI)\nres_flex = opt.optimize(\n    selected_times=None,\n    fixed_budget=False,\n    target_roi=1.2\n)\n\nprint(\"Fixed:\", res_fixed)\nprint(\"Flexible:\", res_flex)"
    },
    {
      "cell_type": "markdown",
      "metadata": {},
      "source": "> Visualize allocations and expected KPI uplift; export CSVs to `reports/`."
    }
  ],
  "metadata": {
    "kernelspec": {
      "display_name": "Python (mmm-meridian)",
      "language": "python",
      "name": "mmm-meridian"
    },
    "language_info": {
      "name": "python",
      "version": "3.11"
    }
  },
  "nbformat": 4,
  "nbformat_minor": 5
}