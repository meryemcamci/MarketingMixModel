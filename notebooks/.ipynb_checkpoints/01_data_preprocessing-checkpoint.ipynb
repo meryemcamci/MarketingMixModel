{
  "cells": [
    {
      "cell_type": "markdown",
      "metadata": {},
      "source": "# 01 \u00b7 Data Preprocessing & EDA\n\n**Goal:** Load data, clean/aggregate to weekly, basic EDA (trends, seasonality, channel patterns), export a clean CSV."
    },
    {
      "cell_type": "code",
      "metadata": {},
      "execution_count": null,
      "outputs": [],
      "source": "import pandas as pd, numpy as np\nimport matplotlib.pyplot as plt\nimport seaborn as sns\nfrom pathlib import Path\nimport sys\nsys.path.append(str(Path(\"..\") / \"src\"))\nfrom utils import load_marketing_data, make_weekly\n\nraw = load_marketing_data(\"../data/marketing_data.csv\")\nweekly = make_weekly(raw, date_col=\"date\")\n\nprint(weekly.head())\nweekly.to_csv(\"../data/marketing_data_clean.csv\", index=False)"
    },
    {
      "cell_type": "code",
      "metadata": {},
      "execution_count": null,
      "outputs": [],
      "source": "# Quick EDA\nfig, ax = plt.subplots(figsize=(10,4))\nax.plot(weekly[\"date\"], weekly[\"revenue\"])\nax.set_title(\"Revenue over time\"); ax.set_xlabel(\"date\"); ax.set_ylabel(\"revenue\")\nplt.show()"
    },
    {
      "cell_type": "markdown",
      "metadata": {},
      "source": "> Next: explore seasonality, channel correlations, missing values handling, outlier capping if needed."
    }
  ],
  "metadata": {
    "kernelspec": {
      "display_name": "Python (mmm-meridian)",
      "language": "python",
      "name": "mmm-meridian"
    },
    "language_info": {
      "name": "python",
      "version": "3.11"
    }
  },
  "nbformat": 4,
  "nbformat_minor": 5
}