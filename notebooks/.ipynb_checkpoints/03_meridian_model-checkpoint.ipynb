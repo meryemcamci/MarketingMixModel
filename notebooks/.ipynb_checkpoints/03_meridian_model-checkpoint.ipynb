{
  "cells": [
    {
      "cell_type": "markdown",
      "metadata": {},
      "source": "# 03 \u00b7 Meridian Bayesian MMM\n\n**Goal:** Train a Meridian model with adstock & saturation; produce a model summary (HTML) and a media summary table."
    },
    {
      "cell_type": "code",
      "metadata": {},
      "execution_count": null,
      "outputs": [],
      "source": "import pandas as pd\nfrom pathlib import Path\n\nfrom meridian.inference import input_data, model, spec, prior_distribution\nfrom meridian.reporting import summarizer, visualizer\n\ndf = pd.read_csv(\"../data/marketing_data_clean.csv\")\n\nbuilder = (\n    input_data.DataFrameInputDataBuilder(df)\n      .set_default_kpi_column(\"revenue\")\n      .set_revenue_per_kpi(1.0)  # if KPI is not revenue, set the conversion factor\n      .with_media([\"tv_spend\",\"search_spend\",\"social_spend\",\"display_spend\"])\n      .with_controls([\"price_index\",\"promo\",\"holiday\"])\n)\ndata = builder.build()\n\nmodel_spec = spec.ModelSpec(\n    prior=prior_distribution.PriorDistribution(),\n    media_effects_dist=\"log_normal\",\n    hill_before_adstock=False,\n    max_lag=8,\n    knots=None,\n    media_prior_type=\"roi\"\n)\n\nmmm = model.Meridian(input_data=data, model_spec=model_spec)\nmmm.sample_prior(200)  # small to start on low-memory machines\nmmm.sample_posterior(n_chains=2, n_adapt=300, n_burnin=0, n_keep=400)  # tune up later\n\n# HTML report\nsumz = summarizer.Summarizer(mmm)\nreports_dir = Path(\"../reports\")\nreports_dir.mkdir(exist_ok=True, parents=True)\nsumz.output_model_results_summary(\"mmm_summary.html\", str(reports_dir))\n\n# Programmatic summary\nms = visualizer.MediaSummary(mmm)\nsummary_table = ms.summary_table()\nsummary_table.to_csv(reports_dir / \"media_summary.csv\", index=False)\nsummary_table.head()"
    },
    {
      "cell_type": "markdown",
      "metadata": {},
      "source": "> If sampling is slow on your Mac, reduce `n_keep` or switch to Google Colab with GPU,\nand later bring the artifacts back to your repo."
    }
  ],
  "metadata": {
    "kernelspec": {
      "display_name": "Python (mmm-meridian)",
      "language": "python",
      "name": "mmm-meridian"
    },
    "language_info": {
      "name": "python",
      "version": "3.11"
    }
  },
  "nbformat": 4,
  "nbformat_minor": 5
}